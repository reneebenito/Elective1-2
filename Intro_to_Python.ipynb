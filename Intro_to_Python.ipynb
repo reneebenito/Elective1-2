{
  "nbformat": 4,
  "nbformat_minor": 0,
  "metadata": {
    "colab": {
      "name": "Intro to Python.ipynb",
      "provenance": [],
      "authorship_tag": "ABX9TyN+KQMXzhSNtpvOzt6knPQx",
      "include_colab_link": true
    },
    "kernelspec": {
      "name": "python3",
      "display_name": "Python 3"
    },
    "language_info": {
      "name": "python"
    }
  },
  "cells": [
    {
      "cell_type": "markdown",
      "metadata": {
        "id": "view-in-github",
        "colab_type": "text"
      },
      "source": [
        "<a href=\"https://colab.research.google.com/github/reneebenito/Elective1-2/blob/main/Intro_to_Python.ipynb\" target=\"_parent\"><img src=\"https://colab.research.google.com/assets/colab-badge.svg\" alt=\"Open In Colab\"/></a>"
      ]
    },
    {
      "cell_type": "markdown",
      "source": [
        "Python Indentation"
      ],
      "metadata": {
        "id": "IJpkL5wyGzph"
      }
    },
    {
      "cell_type": "code",
      "execution_count": 1,
      "metadata": {
        "colab": {
          "base_uri": "https://localhost:8080/"
        },
        "id": "0gv8_1PIGiZg",
        "outputId": "9df2681a-893d-40a2-f80d-6d35759a59d3"
      },
      "outputs": [
        {
          "output_type": "stream",
          "name": "stdout",
          "text": [
            "2 is less than 5\n"
          ]
        }
      ],
      "source": [
        "if 2>5:           \n",
        "  print(\"5 is greater than 2\")\n",
        "else:\n",
        "  print(\"2 is less than 5\")\n"
      ]
    },
    {
      "cell_type": "code",
      "source": [
        "x = 'Stella'\n",
        "y = -4.56\n",
        "\n",
        "print(x)\n",
        "print(y)"
      ],
      "metadata": {
        "id": "ageuodW9HA8c",
        "outputId": "4ba43411-326d-4e3f-802a-8f64cde7ba73",
        "colab": {
          "base_uri": "https://localhost:8080/"
        }
      },
      "execution_count": 2,
      "outputs": [
        {
          "output_type": "stream",
          "name": "stdout",
          "text": [
            "Stella\n",
            "-4.56\n"
          ]
        }
      ]
    },
    {
      "cell_type": "code",
      "source": [
        "print(type(x))\n",
        "print(type(y))"
      ],
      "metadata": {
        "id": "-y8Jj9QdHC8h",
        "outputId": "16e64a9e-0bd5-4b1f-d772-e13a9db7a6ed",
        "colab": {
          "base_uri": "https://localhost:8080/"
        }
      },
      "execution_count": 3,
      "outputs": [
        {
          "output_type": "stream",
          "name": "stdout",
          "text": [
            "<class 'str'>\n",
            "<class 'float'>\n"
          ]
        }
      ]
    }
  ]
}